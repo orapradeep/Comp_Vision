{
 "cells": [
  {
   "cell_type": "code",
   "execution_count": 2,
   "metadata": {
    "collapsed": true
   },
   "outputs": [],
   "source": [
    "import numpy as np\n",
    "import cv2"
   ]
  },
  {
   "cell_type": "code",
   "execution_count": 10,
   "metadata": {
    "collapsed": false
   },
   "outputs": [],
   "source": [
    "face_cascade = cv2.CascadeClassifier('C:/Python27/Lib/site-packages/opencv/sources/data/haarcascades/haarcascade_frontalface_default.xml')\n",
    "eye_cascade = cv2.CascadeClassifier('C:/Python27/Lib/site-packages/opencv/sources/data/haarcascades/haarcascade_eye.xml')\n",
    "img = cv2.imread('C:/Users/pradeepsingh.naulia/OneDrive - Xchanging/comp vision CV/WIN_20170307_16_33_46_Pro.jpg')\n",
    "gray = cv2.cvtColor(img, cv2.COLOR_BGR2GRAY)"
   ]
  },
  {
   "cell_type": "code",
   "execution_count": 30,
   "metadata": {
    "collapsed": false
   },
   "outputs": [
    {
     "data": {
      "text/plain": [
       "array([[203, 208, 190, ..., 188, 189, 186],\n",
       "       [138, 136, 129, ..., 190, 191, 188],\n",
       "       [101,  95, 107, ..., 189, 189, 187],\n",
       "       ..., \n",
       "       [ 28,  29,  29, ...,  60,  54,  59],\n",
       "       [ 28,  31,  35, ...,  56,  53,  60],\n",
       "       [ 39,  43,  43, ...,  67,  60,  61]], dtype=uint8)"
      ]
     },
     "execution_count": 30,
     "metadata": {},
     "output_type": "execute_result"
    }
   ],
   "source": [
    "gray"
   ]
  },
  {
   "cell_type": "code",
   "execution_count": 45,
   "metadata": {
    "collapsed": false
   },
   "outputs": [
    {
     "data": {
      "text/plain": [
       "<CascadeClassifier 00000000040C8AF0>"
      ]
     },
     "execution_count": 45,
     "metadata": {},
     "output_type": "execute_result"
    }
   ],
   "source": [
    "face_cascade"
   ]
  },
  {
   "cell_type": "code",
   "execution_count": 4,
   "metadata": {
    "collapsed": false
   },
   "outputs": [
    {
     "name": "stdout",
     "output_type": "stream",
     "text": [
      "[[[140 182 189]\n",
      "  [138 180 187]\n",
      "  [135 177 184]\n",
      "  ..., \n",
      "  [209 239 244]\n",
      "  [209 239 244]\n",
      "  [210 240 245]]\n",
      "\n",
      " [[143 185 192]\n",
      "  [144 186 193]\n",
      "  [142 184 191]\n",
      "  ..., \n",
      "  [209 239 244]\n",
      "  [209 239 244]\n",
      "  [210 240 245]]\n",
      "\n",
      " [[144 186 193]\n",
      "  [145 187 194]\n",
      "  [142 184 191]\n",
      "  ..., \n",
      "  [210 240 245]\n",
      "  [209 239 244]\n",
      "  [209 239 244]]\n",
      "\n",
      " ..., \n",
      " [[ 26  30  78]\n",
      "  [ 29  33  81]\n",
      "  [ 35  39  87]\n",
      "  ..., \n",
      "  [124 147 179]\n",
      "  [123 146 178]\n",
      "  [125 148 180]]\n",
      "\n",
      " [[ 28  32  80]\n",
      "  [ 24  28  76]\n",
      "  [ 24  28  76]\n",
      "  ..., \n",
      "  [126 149 181]\n",
      "  [125 148 180]\n",
      "  [127 150 182]]\n",
      "\n",
      " [[ 33  37  85]\n",
      "  [ 25  29  77]\n",
      "  [ 25  29  77]\n",
      "  ..., \n",
      "  [125 148 180]\n",
      "  [123 146 178]\n",
      "  [123 146 178]]]\n"
     ]
    }
   ],
   "source": [
    "img = cv2.imread('C:/Users/pradeepsingh.naulia/OneDrive - Xchanging/comp vision CV/rightportrait.jpg')\n",
    "print img"
   ]
  },
  {
   "cell_type": "code",
   "execution_count": 11,
   "metadata": {
    "collapsed": false
   },
   "outputs": [],
   "source": [
    "faces = face_cascade.detectMultiScale(gray, 1.3, 5)\n",
    "for (x,y,w,h) in faces:\n",
    "    cv2.rectangle(img,(x,y),(x+w,y+h),(255,0,0),2)\n",
    "    roi_gray = gray[y:y+h, x:x+w]\n",
    "    roi_color = img[y:y+h, x:x+w]\n",
    "    eyes = eye_cascade.detectMultiScale(roi_gray)\n",
    "    for (ex,ey,ew,eh) in eyes:\n",
    "        cv2.rectangle(roi_color,(ex,ey),(ex+ew,ey+eh),(0,255,0),2)\n",
    "cv2.imshow('img',img)\n",
    "cv2.waitKey(0)\n",
    "cv2.destroyAllWindows()"
   ]
  },
  {
   "cell_type": "code",
   "execution_count": null,
   "metadata": {
    "collapsed": true
   },
   "outputs": [],
   "source": []
  }
 ],
 "metadata": {
  "kernelspec": {
   "display_name": "Python 2",
   "language": "python",
   "name": "python2"
  },
  "language_info": {
   "codemirror_mode": {
    "name": "ipython",
    "version": 2
   },
   "file_extension": ".py",
   "mimetype": "text/x-python",
   "name": "python",
   "nbconvert_exporter": "python",
   "pygments_lexer": "ipython2",
   "version": "2.7.13"
  }
 },
 "nbformat": 4,
 "nbformat_minor": 0
}
